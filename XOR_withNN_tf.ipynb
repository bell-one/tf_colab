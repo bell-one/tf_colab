{
  "nbformat": 4,
  "nbformat_minor": 0,
  "metadata": {
    "colab": {
      "name": "XOR_withNN_tf.ipynb",
      "version": "0.3.2",
      "provenance": [],
      "collapsed_sections": [],
      "include_colab_link": true
    },
    "kernelspec": {
      "name": "python3",
      "display_name": "Python 3"
    }
  },
  "cells": [
    {
      "cell_type": "markdown",
      "metadata": {
        "id": "view-in-github",
        "colab_type": "text"
      },
      "source": [
        "[View in Colaboratory](https://colab.research.google.com/github/bell-one/tf_colab/blob/master/XOR_withNN_tf.ipynb)"
      ]
    },
    {
      "metadata": {
        "id": "wuD3H_C92nxe",
        "colab_type": "code",
        "colab": {}
      },
      "cell_type": "code",
      "source": [
        "import tensorflow as tf\n",
        "import numpy as np"
      ],
      "execution_count": 0,
      "outputs": []
    },
    {
      "metadata": {
        "id": "1rEKSRv221nu",
        "colab_type": "code",
        "colab": {}
      },
      "cell_type": "code",
      "source": [
        "x_data = np.array([[0, 0],[0,1],[1,0],[1,1]], dtype=np.float32)\n",
        "y_data = np.array([[0,],[1],[1],[0]],dtype=np.float32)\n",
        "X = tf.placeholder(tf.float32)\n",
        "Y = tf.placeholder(tf.float32)\n",
        "\n",
        "W1 = tf.Variable(tf.random_normal([2, 2]), name = 'w1')\n",
        "b1 = tf.Variable(tf.random_normal([2]), name='b1')\n",
        "layer1 = tf.sigmoid(tf.matmul(X, W1)+b1)\n",
        "\n",
        "W2 = tf.Variable(tf.random_normal([2, 1]), name = 'w2')\n",
        "b2 = tf.Variable(tf.random_normal([1]), name='b2')\n",
        "hypo = tf.sigmoid(tf.matmul(layer1, W2)+b2)"
      ],
      "execution_count": 0,
      "outputs": []
    },
    {
      "metadata": {
        "id": "MRQyactZ3HaO",
        "colab_type": "code",
        "colab": {}
      },
      "cell_type": "code",
      "source": [
        "cost = -tf.reduce_mean(Y*tf.log(hypo)+(1-Y)*tf.log(1-hypo))\n",
        "train = tf.train.GradientDescentOptimizer(learning_rate = 0.1).minimize(cost)\n",
        "predicted = tf.cast(hypo > 0.5, dtype=tf.float32)\n",
        "accuracy = tf.reduce_mean(tf.cast(tf.equal(predicted, Y), dtype=tf.float32))"
      ],
      "execution_count": 0,
      "outputs": []
    },
    {
      "metadata": {
        "id": "F9Kyh71T3iSO",
        "colab_type": "code",
        "colab": {
          "base_uri": "https://localhost:8080/",
          "height": 1156
        },
        "outputId": "a34dba94-8108-4607-d1d7-60a50b679cbe"
      },
      "cell_type": "code",
      "source": [
        "# launch graph\n",
        "with tf.Session() as sess:\n",
        "  sess.run(tf.global_variables_initializer()) # initialize tf variables \n",
        "  for step in range(10001):\n",
        "    cost_val, _ = sess.run([cost, train], feed_dict={X: x_data, Y: y_data})\n",
        "    if step % 200 == 0:\n",
        "      print(step, cost_val)\n",
        "  h, c, a = sess.run([hypo, predicted, accuracy], feed_dict={X: x_data, Y: y_data})\n",
        "  print(\"\\nHypothesis: \", h,\"\\nCorrect(Y): \",c, \"\\naccuracy: \", a)"
      ],
      "execution_count": 6,
      "outputs": [
        {
          "output_type": "stream",
          "text": [
            "0 0.78727055\n",
            "200 0.6890248\n",
            "400 0.6805848\n",
            "600 0.66945386\n",
            "800 0.65425783\n",
            "1000 0.63291425\n",
            "1200 0.6028027\n",
            "1400 0.5588068\n",
            "1600 0.4918042\n",
            "1800 0.40089232\n",
            "2000 0.3073938\n",
            "2200 0.23263308\n",
            "2400 0.17970355\n",
            "2600 0.14310779\n",
            "2800 0.11733042\n",
            "3000 0.09860936\n",
            "3200 0.08458408\n",
            "3400 0.0737781\n",
            "3600 0.06524735\n",
            "3800 0.05837065\n",
            "4000 0.05272688\n",
            "4200 0.048022877\n",
            "4400 0.044049263\n",
            "4600 0.040653113\n",
            "4800 0.0377205\n",
            "5000 0.035165057\n",
            "5200 0.0329203\n",
            "5400 0.030934\n",
            "5600 0.029165125\n",
            "5800 0.027580464\n",
            "6000 0.026153257\n",
            "6200 0.024861703\n",
            "6400 0.02368768\n",
            "6600 0.022616098\n",
            "6800 0.02163443\n",
            "7000 0.020731933\n",
            "7200 0.019899592\n",
            "7400 0.019129723\n",
            "7600 0.018415572\n",
            "7800 0.017751468\n",
            "8000 0.017132366\n",
            "8200 0.016553935\n",
            "8400 0.016012307\n",
            "8600 0.015504163\n",
            "8800 0.015026515\n",
            "9000 0.014576781\n",
            "9200 0.014152562\n",
            "9400 0.013751799\n",
            "9600 0.013372622\n",
            "9800 0.013013346\n",
            "10000 0.012672481\n",
            "\n",
            "Hypothesis:  [[0.01228473]\n",
            " [0.98378354]\n",
            " [0.9885781 ]\n",
            " [0.01043067]] \n",
            "Correct(Y):  [[0.]\n",
            " [1.]\n",
            " [1.]\n",
            " [0.]] \n",
            "accuracy:  1.0\n"
          ],
          "name": "stdout"
        }
      ]
    },
    {
      "metadata": {
        "id": "idOQE0w13j4N",
        "colab_type": "code",
        "colab": {}
      },
      "cell_type": "code",
      "source": [
        ""
      ],
      "execution_count": 0,
      "outputs": []
    }
  ]
}