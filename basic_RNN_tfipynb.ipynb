{
  "nbformat": 4,
  "nbformat_minor": 0,
  "metadata": {
    "colab": {
      "name": "basic_RNN_tfipynb",
      "version": "0.3.2",
      "provenance": [],
      "collapsed_sections": [],
      "include_colab_link": true
    },
    "kernelspec": {
      "name": "python3",
      "display_name": "Python 3"
    }
  },
  "cells": [
    {
      "cell_type": "markdown",
      "metadata": {
        "id": "view-in-github",
        "colab_type": "text"
      },
      "source": [
        "[View in Colaboratory](https://colab.research.google.com/github/bell-one/tf_colab/blob/master/basic_RNN_tfipynb.ipynb)"
      ]
    },
    {
      "metadata": {
        "id": "qdTDHltEe8Zb",
        "colab_type": "code",
        "colab": {}
      },
      "cell_type": "code",
      "source": [
        "import tensorflow as tf\n",
        "import numpy as np\n",
        "from tensorflow.contrib import rnn\n",
        "import pprint\n",
        "pp = pprint.PrettyPrinter(indent=4)\n",
        "sess = tf.InteractiveSession()"
      ],
      "execution_count": 0,
      "outputs": []
    },
    {
      "metadata": {
        "id": "3NcOvdmeffw2",
        "colab_type": "code",
        "colab": {}
      },
      "cell_type": "code",
      "source": [
        "# One hot encoding for each char in 'hello'# One h \n",
        "h = [1, 0, 0, 0]\n",
        "e = [0, 1, 0, 0]\n",
        "l = [0, 0, 1, 0]\n",
        "o = [0, 0, 0, 1]"
      ],
      "execution_count": 0,
      "outputs": []
    },
    {
      "metadata": {
        "id": "e2Kah2U2fyfk",
        "colab_type": "code",
        "colab": {
          "base_uri": "https://localhost:8080/",
          "height": 223
        },
        "outputId": "697a593c-1ac0-4e7e-e1b0-24140d3f154d"
      },
      "cell_type": "code",
      "source": [
        "with tf.variable_scope('one_cell') as scope:\n",
        "    # One cell RNN input_dim (4) -> output_dim (2)\n",
        "    hidden_size = 2\n",
        "    cell = tf.contrib.rnn.BasicRNNCell(num_units=hidden_size)\n",
        "    print(cell.output_size, cell.state_size)\n",
        "\n",
        "    x_data = np.array([[h, e, l, l, o]], dtype=np.float32) # x_data = [[[1,0,0,0]]]\n",
        "    pp.pprint(x_data)\n",
        "    outputs, _states = tf.nn.dynamic_rnn(cell, x_data, dtype=tf.float32)\n",
        "\n",
        "    sess.run(tf.global_variables_initializer())\n",
        "    pp.pprint(outputs.eval())"
      ],
      "execution_count": 4,
      "outputs": [
        {
          "output_type": "stream",
          "text": [
            "2 2\n",
            "array([[[1., 0., 0., 0.],\n",
            "        [0., 1., 0., 0.],\n",
            "        [0., 0., 1., 0.],\n",
            "        [0., 0., 1., 0.],\n",
            "        [0., 0., 0., 1.]]], dtype=float32)\n",
            "array([[[ 0.6518432 , -0.58296347],\n",
            "        [-0.7467417 , -0.22569777],\n",
            "        [-0.5161284 , -0.5996152 ],\n",
            "        [-0.5838013 , -0.6066532 ],\n",
            "        [-0.08778545, -0.8009915 ]]], dtype=float32)\n"
          ],
          "name": "stdout"
        }
      ]
    },
    {
      "metadata": {
        "id": "1mI8Rm6Cf3-V",
        "colab_type": "code",
        "colab": {
          "base_uri": "https://localhost:8080/",
          "height": 652
        },
        "outputId": "2a5459c0-3bb6-477f-b703-8fda747ed2a2"
      },
      "cell_type": "code",
      "source": [
        "with tf.variable_scope('3_batches') as scope:\n",
        "    # One cell RNN input_dim (4) -> output_dim (2). sequence: 5, batch 3\n",
        "    # 3 batches 'hello', 'eolll', 'lleel'\n",
        "    x_data = np.array([[h, e, l, l, o],\n",
        "                       [e, o, l, l, l],\n",
        "                       [l, l, e, e, l]], dtype=np.float32)\n",
        "    pp.pprint(x_data)\n",
        "    \n",
        "    hidden_size = 2\n",
        "    cell = rnn.BasicLSTMCell(num_units=hidden_size, state_is_tuple=True)\n",
        "    outputs, _states = tf.nn.dynamic_rnn(\n",
        "        cell, x_data, dtype=tf.float32)\n",
        "    sess.run(tf.global_variables_initializer())\n",
        "    pp.pprint(outputs.eval())"
      ],
      "execution_count": 5,
      "outputs": [
        {
          "output_type": "stream",
          "text": [
            "array([[[1., 0., 0., 0.],\n",
            "        [0., 1., 0., 0.],\n",
            "        [0., 0., 1., 0.],\n",
            "        [0., 0., 1., 0.],\n",
            "        [0., 0., 0., 1.]],\n",
            "\n",
            "       [[0., 1., 0., 0.],\n",
            "        [0., 0., 0., 1.],\n",
            "        [0., 0., 1., 0.],\n",
            "        [0., 0., 1., 0.],\n",
            "        [0., 0., 1., 0.]],\n",
            "\n",
            "       [[0., 0., 1., 0.],\n",
            "        [0., 0., 1., 0.],\n",
            "        [0., 1., 0., 0.],\n",
            "        [0., 1., 0., 0.],\n",
            "        [0., 0., 1., 0.]]], dtype=float32)\n",
            "array([[[-0.0821005 , -0.02892194],\n",
            "        [-0.06003592, -0.15153481],\n",
            "        [-0.07251091, -0.0801819 ],\n",
            "        [-0.08669934, -0.00355349],\n",
            "        [-0.04075354,  0.02745337]],\n",
            "\n",
            "       [[-0.01961133, -0.12969351],\n",
            "        [ 0.05313357, -0.03944592],\n",
            "        [-0.00887044,  0.03538894],\n",
            "        [-0.04746778,  0.0877666 ],\n",
            "        [-0.0760282 ,  0.12020133]],\n",
            "\n",
            "       [[-0.0397478 ,  0.0638587 ],\n",
            "        [-0.06989139,  0.10420511],\n",
            "        [-0.07821836, -0.07957634],\n",
            "        [-0.07398938, -0.17622876],\n",
            "        [-0.08042201, -0.10456244]]], dtype=float32)\n"
          ],
          "name": "stdout"
        }
      ]
    },
    {
      "metadata": {
        "id": "mybU6NzKiFyF",
        "colab_type": "code",
        "colab": {}
      },
      "cell_type": "code",
      "source": [
        ""
      ],
      "execution_count": 0,
      "outputs": []
    }
  ]
}