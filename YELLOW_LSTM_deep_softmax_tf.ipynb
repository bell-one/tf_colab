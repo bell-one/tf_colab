{
  "nbformat": 4,
  "nbformat_minor": 0,
  "metadata": {
    "colab": {
      "name": "YELLOW_LSTM_deep_softmax_tf.ipynb",
      "version": "0.3.2",
      "provenance": [],
      "collapsed_sections": [],
      "include_colab_link": true
    },
    "kernelspec": {
      "name": "python3",
      "display_name": "Python 3"
    }
  },
  "cells": [
    {
      "cell_type": "markdown",
      "metadata": {
        "id": "view-in-github",
        "colab_type": "text"
      },
      "source": [
        "[View in Colaboratory](https://colab.research.google.com/github/bell-one/tf_colab/blob/master/YELLOW_LSTM_deep_softmax_tf.ipynb)"
      ]
    },
    {
      "metadata": {
        "id": "My7AW8-KunrG",
        "colab_type": "code",
        "colab": {}
      },
      "cell_type": "code",
      "source": [
        "import tensorflow as tf\n",
        "import numpy as np\n",
        "from tensorflow.contrib import rnn\n",
        "import pprint\n",
        "pp = pprint.PrettyPrinter(indent=4)\n",
        "sess = tf.InteractiveSession()"
      ],
      "execution_count": 0,
      "outputs": []
    },
    {
      "metadata": {
        "id": "zMDnvQs5ySMk",
        "colab_type": "code",
        "colab": {}
      },
      "cell_type": "code",
      "source": [
        "sample = (\"Look at the stars Look how they shine for you And everything you do\"\n",
        "\"Yeah they were all yellow I came along I wrote a song for you\"\n",
        "\"And all the things you do And it was called Yellow\"\n",
        "\"So then I took my turn Oh what a thing to have done And it was all yellow\"\n",
        "\"Your skin Oh yeah, your skin and bones Turn into something beautiful You know, you know I love you so You know I love you so\"          \n",
        "\"I swam across I jumped across for you Oh what a thing to do Cause you were all yellow\"          \n",
        "\"I drew a line I drew a line for you Oh what a thing to do And it was all yellow\"          \n",
        "\"Your skin Oh yeah your skin and bones Turn into something beautiful And you know For you I'd bleed myself dry For you I'd bleed myself dry\"          \n",
        "\"It's true Look how they shine for you Look how they shine for you Look how they shine for Look how they shine for you Look how they shine for you Look how they shine\"          \n",
        "\"Look at the stars Look how they shine for you And all the things that you do\")\n",
        "          \n",
        "char_set = list(set(sample))\n",
        "char_dic = {w: i for i, w in enumerate(char_set)}"
      ],
      "execution_count": 0,
      "outputs": []
    },
    {
      "metadata": {
        "id": "gkWOsFsXyTHy",
        "colab_type": "code",
        "colab": {}
      },
      "cell_type": "code",
      "source": [
        "# hyper parameters\n",
        "dic_size = len(char_set)  # RNN input size (one hot size)\n",
        "hidden_size = len(char_set)  # RNN output size\n",
        "num_classes = len(char_set)  # final output size (RNN or softmax, etc.)\n",
        "learning_rate = 0.1\n",
        "seq_length = 10  # number of lstm rollings (unit #)\n",
        "\n",
        "dataX = []\n",
        "dataY = []\n",
        "\n",
        "for i in range(0, len(sample) - seq_length):\n",
        "  x_str = sample[i:i + seq_length]\n",
        "  y_str = sample[i+1:i+seq_length+1]\n",
        "  \n",
        "  x = [char_dic[c] for c in x_str]\n",
        "  y = [char_dic[c] for c in x_str]\n",
        "  \n",
        "  dataX.append(x)\n",
        "  dataY.append(y)\n",
        "\n",
        "\n",
        "batch_size = len(dataX)"
      ],
      "execution_count": 0,
      "outputs": []
    },
    {
      "metadata": {
        "id": "p-3Rf_wyyT7h",
        "colab_type": "code",
        "colab": {}
      },
      "cell_type": "code",
      "source": [
        "X = tf.placeholder(tf.int32, [None, seq_length])\n",
        "Y = tf.placeholder(tf.int32, [None, seq_length])\n",
        "X_one_hot = tf.one_hot(X, num_classes)"
      ],
      "execution_count": 0,
      "outputs": []
    },
    {
      "metadata": {
        "id": "AS-SCZMByWES",
        "colab_type": "code",
        "colab": {}
      },
      "cell_type": "code",
      "source": [
        "cell = tf.contrib.rnn.BasicLSTMCell(num_units=hidden_size, state_is_tuple=True)\n",
        "cell = tf.contrib.rnn.MultiRNNCell([cell]*2, state_is_tuple=True )\n",
        "initial_state = cell.zero_state(batch_size, tf.float32)\n",
        "outputs, _states = tf.nn.dynamic_rnn(cell, X_one_hot, initial_state = initial_state, dtype=tf.float32)\n",
        "\n",
        "\n",
        "\n",
        "X_for_softmax = tf.reshape(outputs, [-1, hidden_size])\n",
        "softmax_w = tf.get_variable(\"softw\",[hidden_size, num_classes])\n",
        "softmax_b = tf.get_variable(\"softb\",[num_classes])\n",
        "outputs = tf.matmul(X_for_softmax, softmax_w)+softmax_b\n",
        "outputs = tf.reshape(outputs, [batch_size, seq_length, num_classes])\n",
        "\n",
        "weights = tf.ones([batch_size,seq_length])\n",
        "seq_loss = tf.contrib.seq2seq.sequence_loss(logits=outputs, targets =Y, weights=weights)\n",
        "\n",
        "loss = tf.reduce_mean(seq_loss)\n",
        "train = tf.train.AdamOptimizer(learning_rate=learning_rate).minimize(loss)\n",
        "prediction = tf.argmax(outputs, axis=2)\n"
      ],
      "execution_count": 0,
      "outputs": []
    },
    {
      "metadata": {
        "id": "_yeKHdxZydER",
        "colab_type": "code",
        "colab": {
          "base_uri": "https://localhost:8080/",
          "height": 336
        },
        "outputId": "eaf3ebe6-6cf2-4a2f-85e8-bfddad62c461"
      },
      "cell_type": "code",
      "source": [
        "sess.run(tf.global_variables_initializer())\n",
        "for i in range(300):\n",
        "    _, l, results = sess.run(\n",
        "        [train, loss, outputs], feed_dict={X: dataX, Y: dataY})\n",
        "    for j, result in enumerate(results):\n",
        "        index = np.argmax(result, axis=1)\n",
        "    if i % 20 == 0:\n",
        "        print(\"epoch:\",i,\" loss:\",l)\n",
        "\n",
        "\n",
        "# Let's print the last char of each result to check it works\n",
        "results = sess.run(outputs, feed_dict={X: dataX})\n",
        "for j, result in enumerate(results):\n",
        "    index = np.argmax(result, axis=1)\n",
        "    if j is 0:  # print all for the first result to make a sentence\n",
        "        print(''.join([char_set[t] for t in index]), end='')\n",
        "    else:\n",
        "        print(char_set[index[-1]], end='')"
      ],
      "execution_count": 6,
      "outputs": [
        {
          "output_type": "stream",
          "text": [
            "epoch: 0  loss: 3.5997207\n",
            "epoch: 20  loss: 1.1827987\n",
            "epoch: 40  loss: 0.0340239\n",
            "epoch: 60  loss: 0.0020264504\n",
            "epoch: 80  loss: 0.0007583974\n",
            "epoch: 100  loss: 0.0005081338\n",
            "epoch: 120  loss: 0.00040097814\n",
            "epoch: 140  loss: 0.0003329739\n",
            "epoch: 160  loss: 0.000282697\n",
            "epoch: 180  loss: 0.0002434888\n",
            "epoch: 200  loss: 0.00021239508\n",
            "epoch: 220  loss: 0.00018741773\n",
            "epoch: 240  loss: 0.00016704448\n",
            "epoch: 260  loss: 0.00015019719\n",
            "epoch: 280  loss: 0.00013605224\n",
            "Look at the stars Look how they shine for you And everything you doYeah they were all yellow I came along I wrote a song for youAnd all the things you do And it was called YellowSo then I took my turn Oh what a thing to have done And it was all yellowYour skin Oh yeah, your skin and bones Turn into something beautiful You know, you know I love you so You know I love you soI swam across I jumped across for you Oh what a thing to do Cause you were all yellowI drew a line I drew a line for you Oh what a thing to do And it was all yellowYour skin Oh yeah your skin and bones Turn into something beautiful And you know For you I'd bleed myself dry For you I'd bleed myself dryIt's true Look how they shine for you Look how they shine for you Look how they shine for Look how they shine for you Look how they shine for you Look how they shineLook at the stars Look how they shine for you And all the things that you d"
          ],
          "name": "stdout"
        }
      ]
    },
    {
      "metadata": {
        "id": "BwJhXHtU1joh",
        "colab_type": "code",
        "colab": {}
      },
      "cell_type": "code",
      "source": [
        ""
      ],
      "execution_count": 0,
      "outputs": []
    }
  ]
}