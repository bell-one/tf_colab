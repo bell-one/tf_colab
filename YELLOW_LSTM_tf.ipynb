{
  "nbformat": 4,
  "nbformat_minor": 0,
  "metadata": {
    "colab": {
      "name": "YELLOW_LSTM_tf.ipynb",
      "version": "0.3.2",
      "provenance": [],
      "collapsed_sections": [],
      "include_colab_link": true
    },
    "kernelspec": {
      "name": "python3",
      "display_name": "Python 3"
    }
  },
  "cells": [
    {
      "cell_type": "markdown",
      "metadata": {
        "id": "view-in-github",
        "colab_type": "text"
      },
      "source": [
        "[View in Colaboratory](https://colab.research.google.com/github/bell-one/tf_colab/blob/master/YELLOW_LSTM_tf.ipynb)"
      ]
    },
    {
      "metadata": {
        "id": "YUm_dm51pR23",
        "colab_type": "code",
        "colab": {}
      },
      "cell_type": "code",
      "source": [
        "import tensorflow as tf\n",
        "import numpy as np\n",
        "from tensorflow.contrib import rnn\n",
        "import pprint\n",
        "pp = pprint.PrettyPrinter(indent=4)\n",
        "sess = tf.InteractiveSession()"
      ],
      "execution_count": 0,
      "outputs": []
    },
    {
      "metadata": {
        "id": "GF-LEzFipeTF",
        "colab_type": "code",
        "colab": {}
      },
      "cell_type": "code",
      "source": [
        "sample = \"look how they shine\"\n",
        "idx2char = list(set(sample))\n",
        "char2idx = {c: i for i , c in enumerate(idx2char)}\n",
        "sample_idx = [char2idx[c] for c in sample]"
      ],
      "execution_count": 0,
      "outputs": []
    },
    {
      "metadata": {
        "id": "chQEjf_4qI7z",
        "colab_type": "code",
        "colab": {}
      },
      "cell_type": "code",
      "source": [
        "# hyper parameters\n",
        "dic_size = len(char2idx)  # RNN input size (one hot size)\n",
        "hidden_size = len(char2idx)  # RNN output size\n",
        "num_classes = len(char2idx)  # final output size (RNN or softmax, etc.)\n",
        "batch_size = 1  # one sample data, one batch\n",
        "sequence_length = len(sample) - 1  # number of lstm rollings (unit #)\n",
        "learning_rate = 0.05"
      ],
      "execution_count": 0,
      "outputs": []
    },
    {
      "metadata": {
        "id": "yLD3HLwsqMsE",
        "colab_type": "code",
        "colab": {}
      },
      "cell_type": "code",
      "source": [
        "x_data = [sample_idx[:-1]]\n",
        "y_data = [sample_idx[1:]]\n",
        "\n",
        "X = tf.placeholder(tf.int32, [None, sequence_length])\n",
        "Y = tf.placeholder(tf.int32, [None, sequence_length])\n",
        "X_one_hot = tf.one_hot(X, num_classes)"
      ],
      "execution_count": 0,
      "outputs": []
    },
    {
      "metadata": {
        "id": "N4Fh4ctiqgeD",
        "colab_type": "code",
        "colab": {}
      },
      "cell_type": "code",
      "source": [
        "cell = tf.contrib.rnn.BasicLSTMCell(num_units=hidden_size, state_is_tuple=True)\n",
        "initial_state = cell.zero_state(batch_size, tf.float32)\n",
        "outputs, _states = tf.nn.dynamic_rnn(cell, X_one_hot, initial_state = initial_state, dtype=tf.float32)\n",
        "weights = tf.ones([batch_size,sequence_length])\n",
        "seq_loss = tf.contrib.seq2seq.sequence_loss(logits=outputs, targets =Y, weights=weights)\n",
        "\n",
        "loss = tf.reduce_mean(seq_loss)\n",
        "train = tf.train.AdamOptimizer(learning_rate=learning_rate).minimize(loss)\n",
        "prediction = tf.argmax(outputs, axis=2)"
      ],
      "execution_count": 0,
      "outputs": []
    },
    {
      "metadata": {
        "id": "IUqGAbVrrZ40",
        "colab_type": "code",
        "colab": {
          "base_uri": "https://localhost:8080/",
          "height": 1921
        },
        "outputId": "f32de1aa-220d-4bb9-cd8d-5c1938f420cd"
      },
      "cell_type": "code",
      "source": [
        "sess.run(tf.global_variables_initializer())\n",
        "for i in range(5001):\n",
        "  l, _ = sess.run([loss, train], feed_dict={X: x_data, Y: y_data})\n",
        "  result = sess.run(prediction, feed_dict={X: x_data})\n",
        "  if i % 100 == 0:\n",
        "    print(i, \"loss:\", l, \"prediction:\",result,\"true Y:\", y_data)\n",
        "    result_str = [idx2char[c] for c in np.squeeze(result)]\n",
        "    print(\"Prediction str : \", ''.join(result_str))"
      ],
      "execution_count": 6,
      "outputs": [
        {
          "output_type": "stream",
          "text": [
            "0 loss: 2.4971778 prediction: [[6 7 7 7 5 4 4 7 4 5 4 5 8 5 8 4 4 8]] true Y: [[7, 7, 9, 6, 5, 7, 10, 6, 2, 5, 8, 4, 6, 3, 5, 0, 11, 8]]\n",
            "Prediction str :   ooohyyoyhyheheyye\n",
            "100 loss: 1.2430528 prediction: [[ 7  7  9  6  5  7 10  6  2  5  8  4  6  3  5  0 11  8]] true Y: [[7, 7, 9, 6, 5, 7, 10, 6, 2, 5, 8, 4, 6, 3, 5, 0, 11, 8]]\n",
            "Prediction str :  ook how they shine\n",
            "200 loss: 1.1879581 prediction: [[ 7  7  9  6  5  7 10  6  2  5  8  4  6  3  5  0 11  8]] true Y: [[7, 7, 9, 6, 5, 7, 10, 6, 2, 5, 8, 4, 6, 3, 5, 0, 11, 8]]\n",
            "Prediction str :  ook how they shine\n",
            "300 loss: 1.1705971 prediction: [[ 7  7  9  6  5  7 10  6  2  5  8  4  6  3  5  0 11  8]] true Y: [[7, 7, 9, 6, 5, 7, 10, 6, 2, 5, 8, 4, 6, 3, 5, 0, 11, 8]]\n",
            "Prediction str :  ook how they shine\n",
            "400 loss: 1.1655722 prediction: [[ 7  7  9  6  5  7 10  6  2  5  8  4  6  3  5  0 11  8]] true Y: [[7, 7, 9, 6, 5, 7, 10, 6, 2, 5, 8, 4, 6, 3, 5, 0, 11, 8]]\n",
            "Prediction str :  ook how they shine\n",
            "500 loss: 1.1628823 prediction: [[ 7  7  9  6  5  7 10  6  2  5  8  4  6  3  5  0 11  8]] true Y: [[7, 7, 9, 6, 5, 7, 10, 6, 2, 5, 8, 4, 6, 3, 5, 0, 11, 8]]\n",
            "Prediction str :  ook how they shine\n",
            "600 loss: 1.1607718 prediction: [[ 7  7  9  6  5  7 10  6  2  5  8  4  6  3  5  0 11  8]] true Y: [[7, 7, 9, 6, 5, 7, 10, 6, 2, 5, 8, 4, 6, 3, 5, 0, 11, 8]]\n",
            "Prediction str :  ook how they shine\n",
            "700 loss: 1.1514678 prediction: [[ 7  7  9  6  5  7 10  6  2  5  8  4  6  3  5  0 11  8]] true Y: [[7, 7, 9, 6, 5, 7, 10, 6, 2, 5, 8, 4, 6, 3, 5, 0, 11, 8]]\n",
            "Prediction str :  ook how they shine\n",
            "800 loss: 1.1497633 prediction: [[ 7  7  9  6  5  7 10  6  2  5  8  4  6  3  5  0 11  8]] true Y: [[7, 7, 9, 6, 5, 7, 10, 6, 2, 5, 8, 4, 6, 3, 5, 0, 11, 8]]\n",
            "Prediction str :  ook how they shine\n",
            "900 loss: 1.1369582 prediction: [[ 7  7  9  6  5  7 10  6  2  5  8  4  6  3  5  0 11  8]] true Y: [[7, 7, 9, 6, 5, 7, 10, 6, 2, 5, 8, 4, 6, 3, 5, 0, 11, 8]]\n",
            "Prediction str :  ook how they shine\n",
            "1000 loss: 1.1358503 prediction: [[ 7  7  9  6  5  7 10  6  2  5  8  4  6  3  5  0 11  8]] true Y: [[7, 7, 9, 6, 5, 7, 10, 6, 2, 5, 8, 4, 6, 3, 5, 0, 11, 8]]\n",
            "Prediction str :  ook how they shine\n",
            "1100 loss: 1.1351864 prediction: [[ 7  7  9  6  5  7 10  6  2  5  8  4  6  3  5  0 11  8]] true Y: [[7, 7, 9, 6, 5, 7, 10, 6, 2, 5, 8, 4, 6, 3, 5, 0, 11, 8]]\n",
            "Prediction str :  ook how they shine\n",
            "1200 loss: 1.1346867 prediction: [[ 7  7  9  6  5  7 10  6  2  5  8  4  6  3  5  0 11  8]] true Y: [[7, 7, 9, 6, 5, 7, 10, 6, 2, 5, 8, 4, 6, 3, 5, 0, 11, 8]]\n",
            "Prediction str :  ook how they shine\n",
            "1300 loss: 1.134283 prediction: [[ 7  7  9  6  5  7 10  6  2  5  8  4  6  3  5  0 11  8]] true Y: [[7, 7, 9, 6, 5, 7, 10, 6, 2, 5, 8, 4, 6, 3, 5, 0, 11, 8]]\n",
            "Prediction str :  ook how they shine\n",
            "1400 loss: 1.1339417 prediction: [[ 7  7  9  6  5  7 10  6  2  5  8  4  6  3  5  0 11  8]] true Y: [[7, 7, 9, 6, 5, 7, 10, 6, 2, 5, 8, 4, 6, 3, 5, 0, 11, 8]]\n",
            "Prediction str :  ook how they shine\n",
            "1500 loss: 1.133645 prediction: [[ 7  7  9  6  5  7 10  6  2  5  8  4  6  3  5  0 11  8]] true Y: [[7, 7, 9, 6, 5, 7, 10, 6, 2, 5, 8, 4, 6, 3, 5, 0, 11, 8]]\n",
            "Prediction str :  ook how they shine\n",
            "1600 loss: 1.1333857 prediction: [[ 7  7  9  6  5  7 10  6  2  5  8  4  6  3  5  0 11  8]] true Y: [[7, 7, 9, 6, 5, 7, 10, 6, 2, 5, 8, 4, 6, 3, 5, 0, 11, 8]]\n",
            "Prediction str :  ook how they shine\n",
            "1700 loss: 1.1331639 prediction: [[ 7  7  9  6  5  7 10  6  2  5  8  4  6  3  5  0 11  8]] true Y: [[7, 7, 9, 6, 5, 7, 10, 6, 2, 5, 8, 4, 6, 3, 5, 0, 11, 8]]\n",
            "Prediction str :  ook how they shine\n",
            "1800 loss: 1.1330031 prediction: [[ 7  7  9  6  5  7 10  6  2  5  8  4  6  3  5  0 11  8]] true Y: [[7, 7, 9, 6, 5, 7, 10, 6, 2, 5, 8, 4, 6, 3, 5, 0, 11, 8]]\n",
            "Prediction str :  ook how they shine\n",
            "1900 loss: 1.132885 prediction: [[ 7  7  9  6  5  7 10  6  2  5  8  4  6  3  5  0 11  8]] true Y: [[7, 7, 9, 6, 5, 7, 10, 6, 2, 5, 8, 4, 6, 3, 5, 0, 11, 8]]\n",
            "Prediction str :  ook how they shine\n",
            "2000 loss: 1.1327926 prediction: [[ 7  7  9  6  5  7 10  6  2  5  8  4  6  3  5  0 11  8]] true Y: [[7, 7, 9, 6, 5, 7, 10, 6, 2, 5, 8, 4, 6, 3, 5, 0, 11, 8]]\n",
            "Prediction str :  ook how they shine\n",
            "2100 loss: 1.1327175 prediction: [[ 7  7  9  6  5  7 10  6  2  5  8  4  6  3  5  0 11  8]] true Y: [[7, 7, 9, 6, 5, 7, 10, 6, 2, 5, 8, 4, 6, 3, 5, 0, 11, 8]]\n",
            "Prediction str :  ook how they shine\n",
            "2200 loss: 1.1326548 prediction: [[ 7  7  9  6  5  7 10  6  2  5  8  4  6  3  5  0 11  8]] true Y: [[7, 7, 9, 6, 5, 7, 10, 6, 2, 5, 8, 4, 6, 3, 5, 0, 11, 8]]\n",
            "Prediction str :  ook how they shine\n",
            "2300 loss: 1.1326014 prediction: [[ 7  7  9  6  5  7 10  6  2  5  8  4  6  3  5  0 11  8]] true Y: [[7, 7, 9, 6, 5, 7, 10, 6, 2, 5, 8, 4, 6, 3, 5, 0, 11, 8]]\n",
            "Prediction str :  ook how they shine\n",
            "2400 loss: 1.1325507 prediction: [[ 7  7  9  6  5  7 10  6  2  5  8  4  6  3  5  0 11  8]] true Y: [[7, 7, 9, 6, 5, 7, 10, 6, 2, 5, 8, 4, 6, 3, 5, 0, 11, 8]]\n",
            "Prediction str :  ook how they shine\n",
            "2500 loss: 1.1318245 prediction: [[ 7  7  9  6  5  7 10  6  2  5  8  4  6  3  5  0 11  8]] true Y: [[7, 7, 9, 6, 5, 7, 10, 6, 2, 5, 8, 4, 6, 3, 5, 0, 11, 8]]\n",
            "Prediction str :  ook how they shine\n",
            "2600 loss: 1.1317897 prediction: [[ 7  7  9  6  5  7 10  6  2  5  8  4  6  3  5  0 11  8]] true Y: [[7, 7, 9, 6, 5, 7, 10, 6, 2, 5, 8, 4, 6, 3, 5, 0, 11, 8]]\n",
            "Prediction str :  ook how they shine\n",
            "2700 loss: 1.1317592 prediction: [[ 7  7  9  6  5  7 10  6  2  5  8  4  6  3  5  0 11  8]] true Y: [[7, 7, 9, 6, 5, 7, 10, 6, 2, 5, 8, 4, 6, 3, 5, 0, 11, 8]]\n",
            "Prediction str :  ook how they shine\n",
            "2800 loss: 1.1317323 prediction: [[ 7  7  9  6  5  7 10  6  2  5  8  4  6  3  5  0 11  8]] true Y: [[7, 7, 9, 6, 5, 7, 10, 6, 2, 5, 8, 4, 6, 3, 5, 0, 11, 8]]\n",
            "Prediction str :  ook how they shine\n",
            "2900 loss: 1.1317086 prediction: [[ 7  7  9  6  5  7 10  6  2  5  8  4  6  3  5  0 11  8]] true Y: [[7, 7, 9, 6, 5, 7, 10, 6, 2, 5, 8, 4, 6, 3, 5, 0, 11, 8]]\n",
            "Prediction str :  ook how they shine\n",
            "3000 loss: 1.131687 prediction: [[ 7  7  9  6  5  7 10  6  2  5  8  4  6  3  5  0 11  8]] true Y: [[7, 7, 9, 6, 5, 7, 10, 6, 2, 5, 8, 4, 6, 3, 5, 0, 11, 8]]\n",
            "Prediction str :  ook how they shine\n",
            "3100 loss: 1.1316679 prediction: [[ 7  7  9  6  5  7 10  6  2  5  8  4  6  3  5  0 11  8]] true Y: [[7, 7, 9, 6, 5, 7, 10, 6, 2, 5, 8, 4, 6, 3, 5, 0, 11, 8]]\n",
            "Prediction str :  ook how they shine\n",
            "3200 loss: 1.1316504 prediction: [[ 7  7  9  6  5  7 10  6  2  5  8  4  6  3  5  0 11  8]] true Y: [[7, 7, 9, 6, 5, 7, 10, 6, 2, 5, 8, 4, 6, 3, 5, 0, 11, 8]]\n",
            "Prediction str :  ook how they shine\n",
            "3300 loss: 1.1316347 prediction: [[ 7  7  9  6  5  7 10  6  2  5  8  4  6  3  5  0 11  8]] true Y: [[7, 7, 9, 6, 5, 7, 10, 6, 2, 5, 8, 4, 6, 3, 5, 0, 11, 8]]\n",
            "Prediction str :  ook how they shine\n",
            "3400 loss: 1.1316203 prediction: [[ 7  7  9  6  5  7 10  6  2  5  8  4  6  3  5  0 11  8]] true Y: [[7, 7, 9, 6, 5, 7, 10, 6, 2, 5, 8, 4, 6, 3, 5, 0, 11, 8]]\n",
            "Prediction str :  ook how they shine\n",
            "3500 loss: 1.1316073 prediction: [[ 7  7  9  6  5  7 10  6  2  5  8  4  6  3  5  0 11  8]] true Y: [[7, 7, 9, 6, 5, 7, 10, 6, 2, 5, 8, 4, 6, 3, 5, 0, 11, 8]]\n",
            "Prediction str :  ook how they shine\n",
            "3600 loss: 1.1315951 prediction: [[ 7  7  9  6  5  7 10  6  2  5  8  4  6  3  5  0 11  8]] true Y: [[7, 7, 9, 6, 5, 7, 10, 6, 2, 5, 8, 4, 6, 3, 5, 0, 11, 8]]\n",
            "Prediction str :  ook how they shine\n",
            "3700 loss: 1.1315843 prediction: [[ 7  7  9  6  5  7 10  6  2  5  8  4  6  3  5  0 11  8]] true Y: [[7, 7, 9, 6, 5, 7, 10, 6, 2, 5, 8, 4, 6, 3, 5, 0, 11, 8]]\n",
            "Prediction str :  ook how they shine\n",
            "3800 loss: 1.1315742 prediction: [[ 7  7  9  6  5  7 10  6  2  5  8  4  6  3  5  0 11  8]] true Y: [[7, 7, 9, 6, 5, 7, 10, 6, 2, 5, 8, 4, 6, 3, 5, 0, 11, 8]]\n",
            "Prediction str :  ook how they shine\n",
            "3900 loss: 1.1315646 prediction: [[ 7  7  9  6  5  7 10  6  2  5  8  4  6  3  5  0 11  8]] true Y: [[7, 7, 9, 6, 5, 7, 10, 6, 2, 5, 8, 4, 6, 3, 5, 0, 11, 8]]\n",
            "Prediction str :  ook how they shine\n",
            "4000 loss: 1.131556 prediction: [[ 7  7  9  6  5  7 10  6  2  5  8  4  6  3  5  0 11  8]] true Y: [[7, 7, 9, 6, 5, 7, 10, 6, 2, 5, 8, 4, 6, 3, 5, 0, 11, 8]]\n",
            "Prediction str :  ook how they shine\n",
            "4100 loss: 1.1315479 prediction: [[ 7  7  9  6  5  7 10  6  2  5  8  4  6  3  5  0 11  8]] true Y: [[7, 7, 9, 6, 5, 7, 10, 6, 2, 5, 8, 4, 6, 3, 5, 0, 11, 8]]\n",
            "Prediction str :  ook how they shine\n",
            "4200 loss: 1.1315407 prediction: [[ 7  7  9  6  5  7 10  6  2  5  8  4  6  3  5  0 11  8]] true Y: [[7, 7, 9, 6, 5, 7, 10, 6, 2, 5, 8, 4, 6, 3, 5, 0, 11, 8]]\n",
            "Prediction str :  ook how they shine\n",
            "4300 loss: 1.1315337 prediction: [[ 7  7  9  6  5  7 10  6  2  5  8  4  6  3  5  0 11  8]] true Y: [[7, 7, 9, 6, 5, 7, 10, 6, 2, 5, 8, 4, 6, 3, 5, 0, 11, 8]]\n",
            "Prediction str :  ook how they shine\n",
            "4400 loss: 1.1315272 prediction: [[ 7  7  9  6  5  7 10  6  2  5  8  4  6  3  5  0 11  8]] true Y: [[7, 7, 9, 6, 5, 7, 10, 6, 2, 5, 8, 4, 6, 3, 5, 0, 11, 8]]\n",
            "Prediction str :  ook how they shine\n",
            "4500 loss: 1.1315215 prediction: [[ 7  7  9  6  5  7 10  6  2  5  8  4  6  3  5  0 11  8]] true Y: [[7, 7, 9, 6, 5, 7, 10, 6, 2, 5, 8, 4, 6, 3, 5, 0, 11, 8]]\n",
            "Prediction str :  ook how they shine\n",
            "4600 loss: 1.1315161 prediction: [[ 7  7  9  6  5  7 10  6  2  5  8  4  6  3  5  0 11  8]] true Y: [[7, 7, 9, 6, 5, 7, 10, 6, 2, 5, 8, 4, 6, 3, 5, 0, 11, 8]]\n",
            "Prediction str :  ook how they shine\n",
            "4700 loss: 1.1315112 prediction: [[ 7  7  9  6  5  7 10  6  2  5  8  4  6  3  5  0 11  8]] true Y: [[7, 7, 9, 6, 5, 7, 10, 6, 2, 5, 8, 4, 6, 3, 5, 0, 11, 8]]\n",
            "Prediction str :  ook how they shine\n",
            "4800 loss: 1.1315103 prediction: [[ 7  7  9  6  5  7 10  6  2  5  8  4  6  3  5  0 11  8]] true Y: [[7, 7, 9, 6, 5, 7, 10, 6, 2, 5, 8, 4, 6, 3, 5, 0, 11, 8]]\n",
            "Prediction str :  ook how they shine\n",
            "4900 loss: 1.1315014 prediction: [[ 7  7  9  6  5  7 10  6  2  5  8  4  6  3  5  0 11  8]] true Y: [[7, 7, 9, 6, 5, 7, 10, 6, 2, 5, 8, 4, 6, 3, 5, 0, 11, 8]]\n",
            "Prediction str :  ook how they shine\n",
            "5000 loss: 1.1314974 prediction: [[ 7  7  9  6  5  7 10  6  2  5  8  4  6  3  5  0 11  8]] true Y: [[7, 7, 9, 6, 5, 7, 10, 6, 2, 5, 8, 4, 6, 3, 5, 0, 11, 8]]\n",
            "Prediction str :  ook how they shine\n"
          ],
          "name": "stdout"
        }
      ]
    },
    {
      "metadata": {
        "id": "yNfIQej1sHN0",
        "colab_type": "code",
        "colab": {}
      },
      "cell_type": "code",
      "source": [
        ""
      ],
      "execution_count": 0,
      "outputs": []
    }
  ]
}