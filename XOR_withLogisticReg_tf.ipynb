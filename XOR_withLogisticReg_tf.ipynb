{
  "nbformat": 4,
  "nbformat_minor": 0,
  "metadata": {
    "colab": {
      "name": "XOR_withLogisticReg_tf.ipynb",
      "version": "0.3.2",
      "provenance": [],
      "collapsed_sections": [],
      "include_colab_link": true
    },
    "kernelspec": {
      "name": "python3",
      "display_name": "Python 3"
    }
  },
  "cells": [
    {
      "cell_type": "markdown",
      "metadata": {
        "id": "view-in-github",
        "colab_type": "text"
      },
      "source": [
        "[View in Colaboratory](https://colab.research.google.com/github/bell-one/tf_colab/blob/master/XOR_withLogisticReg_tf.ipynb)"
      ]
    },
    {
      "metadata": {
        "id": "fILPOw7wtzGh",
        "colab_type": "code",
        "colab": {}
      },
      "cell_type": "code",
      "source": [
        "import tensorflow as tf\n",
        "import numpy as np"
      ],
      "execution_count": 0,
      "outputs": []
    },
    {
      "metadata": {
        "id": "tlVXoiq10HTf",
        "colab_type": "code",
        "colab": {}
      },
      "cell_type": "code",
      "source": [
        "x_data = np.array([[0, 0],[0,1],[1,0],[1,1]], dtype=np.float32)\n",
        "y_data = np.array([[0,],[1],[1],[0]],dtype=np.float32)"
      ],
      "execution_count": 0,
      "outputs": []
    },
    {
      "metadata": {
        "id": "jaCsToIJ0Qq-",
        "colab_type": "code",
        "colab": {}
      },
      "cell_type": "code",
      "source": [
        "X = tf.placeholder(tf.float32)\n",
        "Y = tf.placeholder(tf.float32)\n",
        "W = tf.Variable(tf.random_normal([2, 1]), name = 'w')\n",
        "b = tf.Variable(tf.random_normal([1]), name='b')"
      ],
      "execution_count": 0,
      "outputs": []
    },
    {
      "metadata": {
        "id": "LCB_3jXN0rJ-",
        "colab_type": "code",
        "colab": {}
      },
      "cell_type": "code",
      "source": [
        "hypo = tf.sigmoid(tf.matmul(X, W)+b)\n",
        "cost = -tf.reduce_mean(Y*tf.log(hypo)+(1-Y)*tf.log(1-hypo))\n",
        "train = tf.train.GradientDescentOptimizer(learning_rate = 0.1).minimize(cost)\n",
        "predicted = tf.cast(hypo > 0.5, dtype=tf.float32)\n",
        "accuracy = tf.reduce_mean(tf.cast(tf.equal(predicted, Y), dtype=tf.float32))"
      ],
      "execution_count": 0,
      "outputs": []
    },
    {
      "metadata": {
        "id": "DOP5IqXp09gN",
        "colab_type": "code",
        "colab": {
          "base_uri": "https://localhost:8080/",
          "height": 1156
        },
        "outputId": "dfbb3c86-54e6-43ec-e24f-b65ed74ab7c2"
      },
      "cell_type": "code",
      "source": [
        "# launch graph\n",
        "with tf.Session() as sess:\n",
        "  sess.run(tf.global_variables_initializer()) # initialize tf variables \n",
        "  for step in range(10001):\n",
        "    cost_val, _ = sess.run([cost, train], feed_dict={X: x_data, Y: y_data})\n",
        "    if step % 200 == 0:\n",
        "      print(step, cost_val)\n",
        "  h, c, a = sess.run([hypo, predicted, accuracy], feed_dict={X: x_data, Y: y_data})\n",
        "  print(\"\\nHypothesis: \", h,\"\\nCorrect(Y): \",c, \"\\naccuracy: \", a)"
      ],
      "execution_count": 14,
      "outputs": [
        {
          "output_type": "stream",
          "text": [
            "0 1.4297225\n",
            "200 0.6971737\n",
            "400 0.6935564\n",
            "600 0.69319695\n",
            "800 0.69315463\n",
            "1000 0.6931485\n",
            "1200 0.69314736\n",
            "1400 0.6931473\n",
            "1600 0.6931472\n",
            "1800 0.6931472\n",
            "2000 0.6931472\n",
            "2200 0.6931472\n",
            "2400 0.6931471\n",
            "2600 0.6931472\n",
            "2800 0.6931472\n",
            "3000 0.6931472\n",
            "3200 0.6931471\n",
            "3400 0.6931472\n",
            "3600 0.6931472\n",
            "3800 0.6931472\n",
            "4000 0.6931472\n",
            "4200 0.6931472\n",
            "4400 0.6931472\n",
            "4600 0.6931472\n",
            "4800 0.6931472\n",
            "5000 0.6931472\n",
            "5200 0.6931472\n",
            "5400 0.6931472\n",
            "5600 0.6931472\n",
            "5800 0.6931472\n",
            "6000 0.6931472\n",
            "6200 0.6931472\n",
            "6400 0.6931472\n",
            "6600 0.6931472\n",
            "6800 0.6931472\n",
            "7000 0.6931472\n",
            "7200 0.6931472\n",
            "7400 0.6931472\n",
            "7600 0.6931472\n",
            "7800 0.6931472\n",
            "8000 0.6931472\n",
            "8200 0.6931472\n",
            "8400 0.6931472\n",
            "8600 0.6931472\n",
            "8800 0.6931472\n",
            "9000 0.6931472\n",
            "9200 0.6931472\n",
            "9400 0.6931472\n",
            "9600 0.6931472\n",
            "9800 0.6931472\n",
            "10000 0.6931472\n",
            "\n",
            "Hypothesis:  [[0.5]\n",
            " [0.5]\n",
            " [0.5]\n",
            " [0.5]] \n",
            "Correct(Y):  [[0.]\n",
            " [0.]\n",
            " [0.]\n",
            " [0.]] \n",
            "accuracy:  0.5\n"
          ],
          "name": "stdout"
        }
      ]
    },
    {
      "metadata": {
        "id": "GIXWBUt11v_9",
        "colab_type": "code",
        "colab": {}
      },
      "cell_type": "code",
      "source": [
        ""
      ],
      "execution_count": 0,
      "outputs": []
    }
  ]
}