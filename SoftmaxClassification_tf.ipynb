{
  "nbformat": 4,
  "nbformat_minor": 0,
  "metadata": {
    "colab": {
      "name": "SoftmaxClassification_tf.ipynb",
      "version": "0.3.2",
      "provenance": [],
      "collapsed_sections": [],
      "include_colab_link": true
    },
    "kernelspec": {
      "name": "python3",
      "display_name": "Python 3"
    }
  },
  "cells": [
    {
      "cell_type": "markdown",
      "metadata": {
        "id": "view-in-github",
        "colab_type": "text"
      },
      "source": [
        "[View in Colaboratory](https://colab.research.google.com/github/bell-one/tf_colab/blob/master/SoftmaxClassification_tf.ipynb)"
      ]
    },
    {
      "metadata": {
        "id": "wQfw5Tv8HcPK",
        "colab_type": "code",
        "colab": {}
      },
      "cell_type": "code",
      "source": [
        "import tensorflow as tf"
      ],
      "execution_count": 0,
      "outputs": []
    },
    {
      "metadata": {
        "id": "wc8vrZuBHfaS",
        "colab_type": "code",
        "colab": {}
      },
      "cell_type": "code",
      "source": [
        "# initilize variables\n",
        "x_data = [[1, 2, 1, 1,], [2, 1, 3, 2], [3, 1, 3, 4], [4, 1, 5, 5], [1, 7, 5, 5], [1, 2, 5, 6], [1, 6, 6, 6,], [1, 7, 7, 7]]\n",
        "y_data = [[0, 0, 1], [0, 0, 1], [0, 0, 1], [0, 1, 0], [0, 1, 0], [0, 1, 0], [1, 0, 0], [1, 0, 0]]\n",
        "# declare tf variables\n",
        "X = tf.placeholder(\"float\", [None, 4])\n",
        "Y = tf.placeholder(\"float\", [None, 3])\n",
        "# training values\n",
        "nb_classes = 3\n",
        "W = tf.Variable(tf.random_normal([4, nb_classes]), name = 'w')\n",
        "b = tf.Variable(tf.random_normal([nb_classes]), name='b')"
      ],
      "execution_count": 0,
      "outputs": []
    },
    {
      "metadata": {
        "id": "94do5_-eIoay",
        "colab_type": "code",
        "colab": {}
      },
      "cell_type": "code",
      "source": [
        "# initilize hypo, cost, opti equation\n",
        "logits = tf.matmul(X,W)+b\n",
        "hypothesis = tf.nn.softmax(logits)\n",
        "cost = tf.reduce_mean(-tf.reduce_sum(Y*tf.log(hypothesis), axis = 1))\n",
        "optimizer = tf.train.GradientDescentOptimizer(learning_rate=0.1).minimize(cost)"
      ],
      "execution_count": 0,
      "outputs": []
    },
    {
      "metadata": {
        "id": "Y_eZqACbJQwB",
        "colab_type": "code",
        "colab": {
          "base_uri": "https://localhost:8080/",
          "height": 279
        },
        "outputId": "02b224a0-e268-4689-c7d7-fa490f2b2927"
      },
      "cell_type": "code",
      "source": [
        "# launch graph\n",
        "with tf.Session() as sess:\n",
        "  sess.run(tf.global_variables_initializer())\n",
        "  for step in range(2001):\n",
        "    sess.run(optimizer, feed_dict={X: x_data, Y: y_data})\n",
        "    if step % 200 == 0:\n",
        "      print(step, sess.run(cost, feed_dict={X: x_data, Y: y_data}))\n",
        "  all = sess.run(hypothesis, feed_dict={X: [[1, 11, 7, 9], [1, 3, 4 , 3], [1, 1, 0, 1]]})\n",
        "  print(all, sess.run(tf.argmax(all, 1)))"
      ],
      "execution_count": 13,
      "outputs": [
        {
          "output_type": "stream",
          "text": [
            "0 4.6472774\n",
            "200 0.62583137\n",
            "400 0.5136163\n",
            "600 0.4200943\n",
            "800 0.32863665\n",
            "1000 0.24460171\n",
            "1200 0.21695884\n",
            "1400 0.19778663\n",
            "1600 0.18162124\n",
            "1800 0.16781597\n",
            "2000 0.15589736\n",
            "[[2.2911292e-03 9.9769813e-01 1.0733069e-05]\n",
            " [9.1009998e-01 7.9223424e-02 1.0676648e-02]\n",
            " [1.8281119e-08 3.6129783e-04 9.9963868e-01]] [1 0 2]\n"
          ],
          "name": "stdout"
        }
      ]
    },
    {
      "metadata": {
        "id": "ZaTT-d6UK22h",
        "colab_type": "code",
        "colab": {}
      },
      "cell_type": "code",
      "source": [
        ""
      ],
      "execution_count": 0,
      "outputs": []
    }
  ]
}