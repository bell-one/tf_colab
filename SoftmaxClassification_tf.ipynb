{
  "nbformat": 4,
  "nbformat_minor": 0,
  "metadata": {
    "colab": {
      "name": "SoftmaxClassification_tf.ipynb",
      "version": "0.3.2",
      "provenance": [],
      "collapsed_sections": [],
      "include_colab_link": true
    },
    "kernelspec": {
      "name": "python3",
      "display_name": "Python 3"
    }
  },
  "cells": [
    {
      "cell_type": "markdown",
      "metadata": {
        "id": "view-in-github",
        "colab_type": "text"
      },
      "source": [
        "[View in Colaboratory](https://colab.research.google.com/github/bell-one/tf_colab/blob/master/SoftmaxClassification_tf.ipynb)"
      ]
    },
    {
      "metadata": {
        "id": "wQfw5Tv8HcPK",
        "colab_type": "code",
        "colab": {}
      },
      "cell_type": "code",
      "source": [
        "import tensorflow as tf"
      ],
      "execution_count": 0,
      "outputs": []
    },
    {
      "metadata": {
        "id": "wc8vrZuBHfaS",
        "colab_type": "code",
        "colab": {}
      },
      "cell_type": "code",
      "source": [
        "# initilize variables\n",
        "x_data = [[1, 2, 1, 1,], [2, 1, 3, 2], [3, 1, 3, 4], [4, 1, 5, 5], [1, 7, 5, 5], [1, 2, 5, 6], [1, 6, 6, 6,], [1, 7, 7, 7]]\n",
        "y_data = [[0, 0, 1], [0, 0, 1], [0, 0, 1], [0, 1, 0], [0, 1, 0], [0, 1, 0], [1, 0, 0], [1, 0, 0]]\n",
        "# declare tf variables\n",
        "X = tf.placeholder(\"float\", [None, 4])\n",
        "Y = tf.placeholder(\"float\", [None, 3])\n",
        "# training values\n",
        "nb_classes = 3\n",
        "W = tf.Variable(tf.random_normal([4, nb_classes]), name = 'w')\n",
        "b = tf.Variable(tf.random_normal([nb_classes]), name='b')"
      ],
      "execution_count": 0,
      "outputs": []
    },
    {
      "metadata": {
        "id": "94do5_-eIoay",
        "colab_type": "code",
        "colab": {}
      },
      "cell_type": "code",
      "source": [
        "# initilize hypo, cost, opti equation\n",
        "hypothesis = tf.nn.softmax(tf.matmul(X,W)+b)\n",
        "cost = tf.reduce_mean(-tf.reduce_sum(Y*tf.log(hypothesis), axis = 1))\n",
        "optimizer = tf.train.GradientDescentOptimizer(learning_rate=0.1).minimize(cost)"
      ],
      "execution_count": 0,
      "outputs": []
    },
    {
      "metadata": {
        "id": "Y_eZqACbJQwB",
        "colab_type": "code",
        "colab": {
          "base_uri": "https://localhost:8080/",
          "height": 279
        },
        "outputId": "f7534bde-f229-495e-c88e-a5a51ad444e3"
      },
      "cell_type": "code",
      "source": [
        "# launch graph\n",
        "with tf.Session() as sess:\n",
        "  sess.run(tf.global_variables_initializer())\n",
        "  for step in range(2001):\n",
        "    sess.run(optimizer, feed_dict={X: x_data, Y: y_data})\n",
        "    if step % 200 == 0:\n",
        "      print(step, sess.run(cost, feed_dict={X: x_data, Y: y_data}))\n",
        "  all = sess.run(hypothesis, feed_dict={X: [[1, 11, 7, 9], [1, 3, 4 , 3], [1, 1, 0, 1]]})\n",
        "  print(all, sess.run(tf.argmax(all, 1)))"
      ],
      "execution_count": 11,
      "outputs": [
        {
          "output_type": "stream",
          "text": [
            "0 1.6902092\n",
            "200 0.5700877\n",
            "400 0.47208488\n",
            "600 0.39465714\n",
            "800 0.3220613\n",
            "1000 0.25249815\n",
            "1200 0.2254958\n",
            "1400 0.20530406\n",
            "1600 0.18830663\n",
            "1800 0.17380841\n",
            "2000 0.16130465\n",
            "[[1.3046871e-02 9.8694593e-01 7.2242142e-06]\n",
            " [7.8728712e-01 2.0118745e-01 1.1525462e-02]\n",
            " [1.3837174e-08 3.4131296e-04 9.9965870e-01]] [1 0 2]\n"
          ],
          "name": "stdout"
        }
      ]
    },
    {
      "metadata": {
        "id": "ZaTT-d6UK22h",
        "colab_type": "code",
        "colab": {}
      },
      "cell_type": "code",
      "source": [
        ""
      ],
      "execution_count": 0,
      "outputs": []
    }
  ]
}